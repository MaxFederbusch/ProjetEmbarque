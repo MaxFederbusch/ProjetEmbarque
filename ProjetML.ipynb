{
  "nbformat": 4,
  "nbformat_minor": 0,
  "metadata": {
    "colab": {
      "name": "ProjetML.ipynb",
      "provenance": []
    },
    "kernelspec": {
      "name": "python3",
      "display_name": "Python 3"
    },
    "language_info": {
      "name": "python"
    }
  },
  "cells": [
    {
      "cell_type": "code",
      "execution_count": 2,
      "metadata": {
        "id": "2QUdSQGP96bw"
      },
      "outputs": [],
      "source": [
        "from random import randint\n",
        "from sklearn.linear_model import LinearRegression"
      ]
    },
    {
      "cell_type": "code",
      "source": [
        "# the limit within which random numbers are generated\n",
        "TRAIN_SET_LIMIT = 1000\n",
        "  \n",
        "# to create exactly 100 data items\n",
        "TRAIN_SET_COUNT = 100\n",
        "  \n",
        "# list that contains input and corresponding output\n",
        "TRAIN_INPUT = list()\n",
        "TRAIN_OUTPUT = list()\n",
        "  \n",
        "# loop to create 100 data  items with three columns each\n",
        "for i in range(TRAIN_SET_COUNT):\n",
        "    a = randint(0, TRAIN_SET_LIMIT)\n",
        "    b = randint(0, TRAIN_SET_LIMIT)\n",
        "    c = randint(0, TRAIN_SET_LIMIT)\n",
        "  \n",
        "# creating the output for each data item\n",
        "    op = a + (2 * b) + (3 * c)\n",
        "    TRAIN_INPUT.append([a, b, c])\n",
        "  \n",
        "# adding each output to output list\n",
        "    TRAIN_OUTPUT.append(op)"
      ],
      "metadata": {
        "id": "YnxFxBa8-PJH"
      },
      "execution_count": 3,
      "outputs": []
    },
    {
      "cell_type": "code",
      "source": [
        "\n",
        "# Sk-Learn contains the linear regression model\n",
        "from sklearn.linear_model import LinearRegression\n",
        "  \n",
        "# Initialize the linear regression model\n",
        "predictor = LinearRegression(n_jobs =-1)\n",
        "  \n",
        "# Fill the Model with the Data\n",
        "predictor.fit(X = TRAIN_INPUT, y = TRAIN_OUTPUT)"
      ],
      "metadata": {
        "colab": {
          "base_uri": "https://localhost:8080/"
        },
        "id": "-meDwZqW-TT_",
        "outputId": "a39ada18-8b70-40f5-b166-45cf964fe2c0"
      },
      "execution_count": 4,
      "outputs": [
        {
          "output_type": "execute_result",
          "data": {
            "text/plain": [
              "LinearRegression(n_jobs=-1)"
            ]
          },
          "metadata": {},
          "execution_count": 4
        }
      ]
    },
    {
      "cell_type": "code",
      "source": [
        "\n",
        "# Random Test data\n",
        "X_TEST = [[ 10, 20, 30 ]]\n",
        "  \n",
        "# Predict the result of X_TEST which holds testing data\n",
        "outcome = predictor.predict(X = X_TEST)\n",
        "  \n",
        "# Predict the coefficients\n",
        "coefficients = predictor.coef_\n",
        "  \n",
        "# Print the result obtained for the test data\n",
        "print('Outcome : {}\\nCoefficients : {}'.format(outcome, coefficients))"
      ],
      "metadata": {
        "colab": {
          "base_uri": "https://localhost:8080/"
        },
        "id": "Sso4Ra_u-WgX",
        "outputId": "b1ad1559-a649-4acd-e52e-54ad005ba739"
      },
      "execution_count": 5,
      "outputs": [
        {
          "output_type": "stream",
          "name": "stdout",
          "text": [
            "Outcome : [140.]\n",
            "Coefficients : [1. 2. 3.]\n"
          ]
        }
      ]
    }
  ]
}